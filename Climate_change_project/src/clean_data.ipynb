{
 "cells": [
  {
   "cell_type": "code",
   "execution_count": 1,
   "id": "1f6ac5d0",
   "metadata": {},
   "outputs": [],
   "source": [
    "import pandas as pd"
   ]
  },
  {
   "cell_type": "code",
   "execution_count": 2,
   "id": "7c30023c",
   "metadata": {},
   "outputs": [],
   "source": [
    "#loading raw data"
   ]
  },
  {
   "cell_type": "code",
   "execution_count": 3,
   "id": "a608a7da",
   "metadata": {},
   "outputs": [
    {
     "name": "stdout",
     "output_type": "stream",
     "text": [
      "           dt  LandAverageTemperature  LandAverageTemperatureUncertainty  \\\n",
      "0  1750-01-01                   3.034                              3.574   \n",
      "1  1750-02-01                   3.083                              3.702   \n",
      "2  1750-03-01                   5.626                              3.076   \n",
      "3  1750-04-01                   8.490                              2.451   \n",
      "4  1750-05-01                  11.573                              2.072   \n",
      "\n",
      "   LandMaxTemperature  LandMaxTemperatureUncertainty  LandMinTemperature  \\\n",
      "0                 NaN                            NaN                 NaN   \n",
      "1                 NaN                            NaN                 NaN   \n",
      "2                 NaN                            NaN                 NaN   \n",
      "3                 NaN                            NaN                 NaN   \n",
      "4                 NaN                            NaN                 NaN   \n",
      "\n",
      "   LandMinTemperatureUncertainty  LandAndOceanAverageTemperature  \\\n",
      "0                            NaN                             NaN   \n",
      "1                            NaN                             NaN   \n",
      "2                            NaN                             NaN   \n",
      "3                            NaN                             NaN   \n",
      "4                            NaN                             NaN   \n",
      "\n",
      "   LandAndOceanAverageTemperatureUncertainty  \n",
      "0                                        NaN  \n",
      "1                                        NaN  \n",
      "2                                        NaN  \n",
      "3                                        NaN  \n",
      "4                                        NaN  \n"
     ]
    }
   ],
   "source": [
    "df = pd.read_csv('../data_raw/Globaltemperatures.csv')\n",
    "\n",
    "print(df.head())"
   ]
  },
  {
   "cell_type": "raw",
   "id": "a5c915ee",
   "metadata": {},
   "source": []
  },
  {
   "cell_type": "code",
   "execution_count": 4,
   "id": "514192a7",
   "metadata": {},
   "outputs": [
    {
     "data": {
      "text/plain": [
       "dt                                              0\n",
       "LandAverageTemperature                         12\n",
       "LandAverageTemperatureUncertainty              12\n",
       "LandMaxTemperature                           1200\n",
       "LandMaxTemperatureUncertainty                1200\n",
       "LandMinTemperature                           1200\n",
       "LandMinTemperatureUncertainty                1200\n",
       "LandAndOceanAverageTemperature               1200\n",
       "LandAndOceanAverageTemperatureUncertainty    1200\n",
       "dtype: int64"
      ]
     },
     "execution_count": 4,
     "metadata": {},
     "output_type": "execute_result"
    }
   ],
   "source": [
    "df.isnull().sum()"
   ]
  },
  {
   "cell_type": "code",
   "execution_count": 17,
   "id": "2e8b4af7",
   "metadata": {},
   "outputs": [],
   "source": [
    "# Storing cleaned data to data_clean folder"
   ]
  },
  {
   "cell_type": "code",
   "execution_count": 20,
   "id": "ab8dcb65",
   "metadata": {},
   "outputs": [],
   "source": [
    "df.to_csv('../data_clean/Globaltemperatures.csv')\n"
   ]
  },
  {
   "cell_type": "code",
   "execution_count": null,
   "id": "ff8bd912",
   "metadata": {},
   "outputs": [],
   "source": []
  },
  {
   "cell_type": "code",
   "execution_count": null,
   "id": "a68952cf",
   "metadata": {},
   "outputs": [],
   "source": []
  }
 ],
 "metadata": {
  "kernelspec": {
   "display_name": "Python 3 (ipykernel)",
   "language": "python",
   "name": "python3"
  },
  "language_info": {
   "codemirror_mode": {
    "name": "ipython",
    "version": 3
   },
   "file_extension": ".py",
   "mimetype": "text/x-python",
   "name": "python",
   "nbconvert_exporter": "python",
   "pygments_lexer": "ipython3",
   "version": "3.9.13"
  }
 },
 "nbformat": 4,
 "nbformat_minor": 5
}
